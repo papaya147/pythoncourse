{
 "cells": [
  {
   "cell_type": "markdown",
   "id": "28a37647-0a33-40da-8112-9ba60d7f4ba5",
   "metadata": {},
   "source": [
    "# Grocery Bill\n",
    "\n",
    "Initialising the costs of the grocery items:"
   ]
  },
  {
   "cell_type": "code",
   "execution_count": 1,
   "id": "aba30e1a-34bd-4d93-a086-42804ead6461",
   "metadata": {},
   "outputs": [],
   "source": [
    "prices = {\n",
    "    \"apple\": 0.40,\n",
    "    \"banana\": 0.50,\n",
    "}\n",
    "my_basket = {\n",
    "    \"apple\": 1,\n",
    "    \"banana\": 6,\n",
    "}\n",
    "total_grocery_bill = 0"
   ]
  },
  {
   "cell_type": "markdown",
   "id": "8ab82462-ecb2-4561-a991-b84cf3c20782",
   "metadata": {},
   "source": [
    "Calculating cost of bill:"
   ]
  },
  {
   "cell_type": "code",
   "execution_count": 2,
   "id": "54d17a80-3899-4bf2-ab5c-029a7e282ea4",
   "metadata": {},
   "outputs": [],
   "source": [
    "for fruit, count in my_basket.items():\n",
    "    total_grocery_bill += prices[fruit] * count"
   ]
  },
  {
   "cell_type": "markdown",
   "id": "8120d468-ed70-49cc-bbb3-bb624ccee5b4",
   "metadata": {},
   "source": [
    "Printing bill cost:"
   ]
  },
  {
   "cell_type": "code",
   "execution_count": 3,
   "id": "ed85c634-302a-447b-a83e-c9b2ac2187f0",
   "metadata": {},
   "outputs": [
    {
     "name": "stdout",
     "output_type": "stream",
     "text": [
      "I owe the grocer £3.40\n"
     ]
    }
   ],
   "source": [
    "print(f\"I owe the grocer £{total_grocery_bill:.2f}\")"
   ]
  }
 ],
 "metadata": {
  "kernelspec": {
   "display_name": "Python 3",
   "language": "python",
   "name": "python3"
  },
  "language_info": {
   "codemirror_mode": {
    "name": "ipython",
    "version": 3
   },
   "file_extension": ".py",
   "mimetype": "text/x-python",
   "name": "python",
   "nbconvert_exporter": "python",
   "pygments_lexer": "ipython3",
   "version": "3.8.8"
  }
 },
 "nbformat": 4,
 "nbformat_minor": 5
}
