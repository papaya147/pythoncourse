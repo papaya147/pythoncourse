{
 "cells": [
  {
   "cell_type": "code",
   "execution_count": 1,
   "id": "08f31748-f2bd-4a76-820d-1aa28e773d7c",
   "metadata": {},
   "outputs": [],
   "source": [
    "from pandas import Series"
   ]
  },
  {
   "cell_type": "code",
   "execution_count": 2,
   "id": "e6c0f5aa-dbb6-40bf-be1c-393c214492d2",
   "metadata": {},
   "outputs": [
    {
     "data": {
      "text/plain": [
       "0     1\n",
       "1     2\n",
       "2     3\n",
       "3     4\n",
       "4     5\n",
       "5     6\n",
       "6     7\n",
       "7     8\n",
       "8     9\n",
       "9    10\n",
       "dtype: int64"
      ]
     },
     "execution_count": 2,
     "metadata": {},
     "output_type": "execute_result"
    }
   ],
   "source": [
    "numbers = [1,2,3,4,5,6,7,8,9,10]\n",
    "my_series = Series(numbers)\n",
    "my_series"
   ]
  },
  {
   "cell_type": "markdown",
   "id": "b1605466-197d-4cd2-b5cd-067fc35771a0",
   "metadata": {},
   "source": [
    "Can out your own indices too:"
   ]
  },
  {
   "cell_type": "code",
   "execution_count": 3,
   "id": "7b86517f-ae6f-413a-95c5-7d6289ff14fe",
   "metadata": {},
   "outputs": [
    {
     "data": {
      "text/plain": [
       "5    1\n",
       "6    2\n",
       "7    3\n",
       "8    4\n",
       "9    5\n",
       "dtype: int64"
      ]
     },
     "execution_count": 3,
     "metadata": {},
     "output_type": "execute_result"
    }
   ],
   "source": [
    "my_series = Series([1,2,3,4,5],range(5,10))\n",
    "my_series"
   ]
  },
  {
   "cell_type": "markdown",
   "id": "308958a8-b7b8-4491-8527-f0cdf4b25a8b",
   "metadata": {},
   "source": [
    "Another way to put indices:"
   ]
  },
  {
   "cell_type": "code",
   "execution_count": 4,
   "id": "ec1b6c66-9c2b-46e3-8947-bb97abb7d932",
   "metadata": {},
   "outputs": [
    {
     "data": {
      "text/plain": [
       "a    14\n",
       "b     7\n",
       "c     3\n",
       "d    -7\n",
       "e     8\n",
       "dtype: int64"
      ]
     },
     "execution_count": 4,
     "metadata": {},
     "output_type": "execute_result"
    }
   ],
   "source": [
    "my_series = Series([14, 7, 3, -7, 8], index = [\"a\", \"b\", \"c\", \"d\", \"e\"])\n",
    "my_series"
   ]
  },
  {
   "cell_type": "markdown",
   "id": "b5deb378-84a9-4717-9812-6c3511a8a02c",
   "metadata": {},
   "source": [
    "Getting and Setting:"
   ]
  },
  {
   "cell_type": "code",
   "execution_count": 9,
   "id": "c3dfb712-0206-418d-9d7d-78cf66141d74",
   "metadata": {},
   "outputs": [
    {
     "name": "stdout",
     "output_type": "stream",
     "text": [
      "3\n"
     ]
    },
    {
     "data": {
      "text/plain": [
       "5"
      ]
     },
     "execution_count": 9,
     "metadata": {},
     "output_type": "execute_result"
    }
   ],
   "source": [
    "print(my_series[\"c\"])\n",
    "\n",
    "my_series[\"d\"] = 5\n",
    "my_series[\"d\"]"
   ]
  },
  {
   "cell_type": "markdown",
   "id": "9413ac48-31ab-415d-b0ce-19242cbd832b",
   "metadata": {},
   "source": [
    "Can also add entries:"
   ]
  },
  {
   "cell_type": "code",
   "execution_count": 12,
   "id": "a26a160a-c20b-4fcc-aae0-9e15be6f8dea",
   "metadata": {},
   "outputs": [
    {
     "data": {
      "text/plain": [
       "a    14\n",
       "b     7\n",
       "c     3\n",
       "d     5\n",
       "e     8\n",
       "f    76\n",
       "dtype: int64"
      ]
     },
     "execution_count": 12,
     "metadata": {},
     "output_type": "execute_result"
    }
   ],
   "source": [
    "my_series[\"f\"] = 76\n",
    "my_series"
   ]
  },
  {
   "cell_type": "markdown",
   "id": "9f77aa89-0ac7-4a23-9175-bb200775613b",
   "metadata": {},
   "source": [
    "Same Series can have different datatypes (but becomes object datatype):"
   ]
  },
  {
   "cell_type": "code",
   "execution_count": 15,
   "id": "dd063483-c530-449e-b2a5-e7db5b2e2e1b",
   "metadata": {},
   "outputs": [
    {
     "data": {
      "text/plain": [
       "a        14\n",
       "b         7\n",
       "c         3\n",
       "d         5\n",
       "e         8\n",
       "f        76\n",
       "g    tanush\n",
       "dtype: object"
      ]
     },
     "execution_count": 15,
     "metadata": {},
     "output_type": "execute_result"
    }
   ],
   "source": [
    "my_series[\"g\"] = \"tanush\"\n",
    "my_series"
   ]
  },
  {
   "cell_type": "code",
   "execution_count": 16,
   "id": "ca00731c-25a5-4f46-925e-9b4ddbd621d2",
   "metadata": {},
   "outputs": [],
   "source": [
    "series = Series([1,2,3,4,5])"
   ]
  },
  {
   "cell_type": "markdown",
   "id": "eaa07288-1c1c-4377-85e8-8b4c5c698832",
   "metadata": {},
   "source": [
    "Arithmetic with entries:"
   ]
  },
  {
   "cell_type": "code",
   "execution_count": 17,
   "id": "6134c127-6326-415a-a499-06ded156b65c",
   "metadata": {},
   "outputs": [
    {
     "data": {
      "text/plain": [
       "0     2\n",
       "1     4\n",
       "2     6\n",
       "3     8\n",
       "4    10\n",
       "dtype: int64"
      ]
     },
     "execution_count": 17,
     "metadata": {},
     "output_type": "execute_result"
    }
   ],
   "source": [
    "series * 2"
   ]
  },
  {
   "cell_type": "code",
   "execution_count": 18,
   "id": "c00b2fac-9cb0-465d-a07f-b5876ee2054d",
   "metadata": {},
   "outputs": [
    {
     "data": {
      "text/plain": [
       "0   -4\n",
       "1   -3\n",
       "2   -2\n",
       "3   -1\n",
       "4    0\n",
       "dtype: int64"
      ]
     },
     "execution_count": 18,
     "metadata": {},
     "output_type": "execute_result"
    }
   ],
   "source": [
    "series - 5"
   ]
  },
  {
   "cell_type": "markdown",
   "id": "406aa0ad-9876-499a-a1e7-5d593433dfbf",
   "metadata": {},
   "source": [
    "Boolean with entries:"
   ]
  },
  {
   "cell_type": "code",
   "execution_count": 19,
   "id": "4c401f0b-bacb-47bd-bd97-2e33dba2366c",
   "metadata": {},
   "outputs": [
    {
     "data": {
      "text/plain": [
       "0    False\n",
       "1    False\n",
       "2     True\n",
       "3     True\n",
       "4     True\n",
       "dtype: bool"
      ]
     },
     "execution_count": 19,
     "metadata": {},
     "output_type": "execute_result"
    }
   ],
   "source": [
    "series > 2"
   ]
  },
  {
   "cell_type": "markdown",
   "id": "92203cd3-7b58-41bb-9528-d2263b9aff3b",
   "metadata": {},
   "source": [
    "Getting array of just values:"
   ]
  },
  {
   "cell_type": "code",
   "execution_count": 22,
   "id": "9399cc0e-704c-4c85-aa7c-73b87686b85a",
   "metadata": {},
   "outputs": [
    {
     "data": {
      "text/plain": [
       "array([1, 2, 3, 4, 5], dtype=int64)"
      ]
     },
     "execution_count": 22,
     "metadata": {},
     "output_type": "execute_result"
    }
   ],
   "source": [
    "numbers = series.values\n",
    "numbers"
   ]
  },
  {
   "cell_type": "markdown",
   "id": "14b8a5e2-e602-46f7-a712-7d9de9a221a0",
   "metadata": {},
   "source": [
    "Gives boolean specefic data (the rest are not shown):"
   ]
  },
  {
   "cell_type": "code",
   "execution_count": 23,
   "id": "2cf61394-dc49-4a17-acff-51bc936cdc47",
   "metadata": {},
   "outputs": [
    {
     "data": {
      "text/plain": [
       "2    3\n",
       "3    4\n",
       "4    5\n",
       "dtype: int64"
      ]
     },
     "execution_count": 23,
     "metadata": {},
     "output_type": "execute_result"
    }
   ],
   "source": [
    "series[series > 2]"
   ]
  },
  {
   "cell_type": "code",
   "execution_count": 29,
   "id": "ace5d9c1-292b-4451-af73-c5b1098b4ece",
   "metadata": {},
   "outputs": [],
   "source": [
    "s1 = Series([23,5,34,7,5,6])\n",
    "s2 = Series([7,6,5,4,3,2])"
   ]
  },
  {
   "cell_type": "code",
   "execution_count": 30,
   "id": "3bc33d63-a27c-44bc-9a3b-3a8421e98609",
   "metadata": {},
   "outputs": [
    {
     "data": {
      "text/plain": [
       "0    16\n",
       "1    -1\n",
       "2    29\n",
       "3     3\n",
       "4     2\n",
       "5     4\n",
       "dtype: int64"
      ]
     },
     "execution_count": 30,
     "metadata": {},
     "output_type": "execute_result"
    }
   ],
   "source": [
    "s1 - s2"
   ]
  },
  {
   "cell_type": "code",
   "execution_count": null,
   "id": "da8c4cad-1ce5-40ab-8b72-855d7814abca",
   "metadata": {},
   "outputs": [],
   "source": []
  }
 ],
 "metadata": {
  "kernelspec": {
   "display_name": "Python 3",
   "language": "python",
   "name": "python3"
  },
  "language_info": {
   "codemirror_mode": {
    "name": "ipython",
    "version": 3
   },
   "file_extension": ".py",
   "mimetype": "text/x-python",
   "name": "python",
   "nbconvert_exporter": "python",
   "pygments_lexer": "ipython3",
   "version": "3.8.8"
  }
 },
 "nbformat": 4,
 "nbformat_minor": 5
}
